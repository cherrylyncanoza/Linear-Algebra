{
 "cells": [
  {
   "cell_type": "markdown",
   "metadata": {},
   "source": [
    "# Linear Algebra (CpE210A)"
   ]
  },
  {
   "cell_type": "markdown",
   "metadata": {},
   "source": [
    "# Laboratory 1: Getting acquainted with Python"
   ]
  },
  {
   "cell_type": "markdown",
   "metadata": {},
   "source": [
    "Coded and submitted by:\n",
    "\n",
    "Canoza, Cherrylyn S.\n",
    "\n",
    "58010"
   ]
  },
  {
   "cell_type": "markdown",
   "metadata": {},
   "source": [
    "Lab Exercises"
   ]
  },
  {
   "cell_type": "code",
   "execution_count": 1,
   "metadata": {},
   "outputs": [
    {
     "name": "stdout",
     "output_type": "stream",
     "text": [
      "Charmander at level 15\n",
      "Pidgey at level 11\n",
      "Sandshrew at level 18\n",
      "Rattata at level 5\n",
      "Abra at level 14\n"
     ]
    }
   ],
   "source": [
    "#Graded Cell 1\n",
    "\n",
    "import array as arr\n",
    "party = (['Charmander', 'Pidgey', 'Sandshrew', 'Rattata', 'Abra'])\n",
    "levels = arr.array('i', [15, 11, 18, 5, 14])\n",
    "print(party[0], \"at level\", levels[0])\n",
    "print(party[1], \"at level\", levels[1])\n",
    "print(party[2], \"at level\", levels[2])\n",
    "print(party[3], \"at level\", levels[3])\n",
    "print(party[4], \"at level\", levels[4])"
   ]
  },
  {
   "cell_type": "code",
   "execution_count": 2,
   "metadata": {},
   "outputs": [
    {
     "name": "stdout",
     "output_type": "stream",
     "text": [
      "Pokemon Reserves\n",
      "(2, 'Dialaga')\n",
      "(3, 'Regigigas')\n",
      "(10, 'Onix')\n"
     ]
    }
   ],
   "source": [
    "#Graded Cell 2\n",
    "\n",
    "print(\"Pokemon Reserves\")\n",
    "##pokemon = ['Onix', 'Slowpoke', 'Dialga', 'Magikarp', 'Feebas', 'Swablu' 'Regigigas', 'Unown']\n",
    "a = 10, 'Onix'\n",
    "b = 18, 'Slowpoke'\n",
    "c = 2, 'Dialaga'\n",
    "d = 32, 'Magikarp'\n",
    "e = 22, 'Feebas'\n",
    "f = 19, 'Swablu'\n",
    "g = 3, 'Regigigas'\n",
    "h = 50,'Unown'\n",
    "pokemon = ([a, b, c, d, d, e, f, g , h])\n",
    "topthree = sorted(pokemon)\n",
    "for i in range(3):\n",
    "    print(topthree[i])"
   ]
  },
  {
   "cell_type": "code",
   "execution_count": 3,
   "metadata": {},
   "outputs": [
    {
     "name": "stdout",
     "output_type": "stream",
     "text": [
      "['Charmander', 'Pidgey', 'Sandshrew', 'Rattata', 'Abra', 'Unown']\n",
      "['Charmander', 'Pidgey', 'Sandshrew', 'Rattata', 'Abra', 'Magikarp']\n",
      "['Charmander', 'Pidgey', 'Sandshrew', 'Rattata', 'Abra', 'Feebas']\n"
     ]
    }
   ],
   "source": [
    "#Graded Cell 3\n",
    "\n",
    "def create_party(party, candidates):\n",
    "    suggested_party = party.copy()\n",
    "    suggested_party.append(candidates)\n",
    "    return suggested_party\n",
    "\n",
    "party = (['Charmander', 'Pidgey', 'Sandshrew', 'Rattata', 'Abra'])\n",
    "candidates = (['Unown', 'Magikarp', 'Feebas'])\n",
    "\n",
    "for i in range(3):\n",
    "    new_party = create_party(party, candidates[i])\n",
    "    print(new_party)"
   ]
  }
 ],
 "metadata": {
  "kernelspec": {
   "display_name": "Python 3",
   "language": "python",
   "name": "python3"
  },
  "language_info": {
   "codemirror_mode": {
    "name": "ipython",
    "version": 3
   },
   "file_extension": ".py",
   "mimetype": "text/x-python",
   "name": "python",
   "nbconvert_exporter": "python",
   "pygments_lexer": "ipython3",
   "version": "3.8.3"
  }
 },
 "nbformat": 4,
 "nbformat_minor": 4
}
